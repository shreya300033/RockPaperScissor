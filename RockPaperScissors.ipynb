{
 "cells": [
  {
   "cell_type": "code",
   "execution_count": 18,
   "id": "bab5c0ad",
   "metadata": {},
   "outputs": [
    {
     "name": "stdout",
     "output_type": "stream",
     "text": [
      "Enter your choice :\n",
      " 0 for Rock\n",
      " 1 for Paper\n",
      " 2 for Scissors\n",
      "2\n",
      "Computer choice:\n",
      "0\n",
      "Your choice: \n",
      "You Lose!\n",
      "\n"
     ]
    }
   ],
   "source": [
    "import random\n",
    "user_choice = int(input(\"Enter your choice :\\n 0 for Rock\\n 1 for Paper\\n 2 for Scissors\\n\"))\n",
    "computer_choice = random.randint(0,2)\n",
    "print(\"Computer choice:\")\n",
    "print(computer_choice)\n",
    "if user_choice == computer_choice:\n",
    "    print(\"Its a draw\\n\")\n",
    "elif user_choice == 0 and computer_choice == 2:\n",
    "    print(\"You Win!\\n\")\n",
    "elif user_choice == 2 and computer_choice == 0:\n",
    "    print(\"You Lose!\\n\")\n",
    "elif user_choice < computer_choice:\n",
    "    print(\"You Lose!\\n\")\n",
    "elif user_choice > computer_choice:\n",
    "    print(\"You Win!\\n\")\n",
    "else:\n",
    "    print(\"Invalid choice. You lose!\\n\")"
   ]
  },
  {
   "cell_type": "code",
   "execution_count": 10,
   "id": "e88f965e",
   "metadata": {},
   "outputs": [],
   "source": [
    "#logic behind the rock paper scissor \n",
    "#user_choice     #computer_choice\n",
    "# 0               0 -> draw\n",
    "# 0               1 -> computer wins\n",
    "# 0               2 -> user wins\n",
    "# 1               0 -> user wins\n",
    "# 1               1 -> draw\n",
    "# 1               2 -> computer wins\n",
    "# 2               0 -> computer wins\n",
    "# 2               1 -> user wins\n",
    "# 2               2 -> draw"
   ]
  }
 ],
 "metadata": {
  "kernelspec": {
   "display_name": "Python 3 (ipykernel)",
   "language": "python",
   "name": "python3"
  },
  "language_info": {
   "codemirror_mode": {
    "name": "ipython",
    "version": 3
   },
   "file_extension": ".py",
   "mimetype": "text/x-python",
   "name": "python",
   "nbconvert_exporter": "python",
   "pygments_lexer": "ipython3",
   "version": "3.11.5"
  }
 },
 "nbformat": 4,
 "nbformat_minor": 5
}
